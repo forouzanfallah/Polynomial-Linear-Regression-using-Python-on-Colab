{
  "nbformat": 4,
  "nbformat_minor": 0,
  "metadata": {
    "colab": {
      "name": "polynomial_regression_on_position_salaries.ipynb",
      "provenance": [],
      "collapsed_sections": []
    },
    "kernelspec": {
      "name": "python3",
      "display_name": "Python 3"
    }
  },
  "cells": [
    {
      "cell_type": "markdown",
      "metadata": {
        "id": "uVMyF2qVxHFv"
      },
      "source": [
        "#🌸 Forouzan Fallah 🌸"
      ]
    },
    {
      "cell_type": "markdown",
      "metadata": {
        "id": "bDEDaFBvxJPG"
      },
      "source": [
        "Github: Forouzanfallah\n",
        "\n",
        "Personal Website: Forouzanfallah.ir\n",
        "\n",
        "Don't hesitate to contact me for any further questions ☺"
      ]
    },
    {
      "cell_type": "markdown",
      "metadata": {
        "id": "vN99YjPTDena"
      },
      "source": [
        "# Polynomial Regression"
      ]
    },
    {
      "cell_type": "markdown",
      "metadata": {
        "id": "XJ0rcaua1MNq"
      },
      "source": [
        "we call it \"Polynomial **Linear** Regression\"\n",
        "because the relation between the Y and the coefficients which we want to learn (and are our unknowns) is a linear relation.\n"
      ]
    },
    {
      "cell_type": "markdown",
      "metadata": {
        "id": "ZIx_naXnDyHd"
      },
      "source": [
        "## Importing the libraries"
      ]
    },
    {
      "cell_type": "code",
      "metadata": {
        "id": "FjnmdyPLD2tS"
      },
      "source": [
        "import numpy as np\n",
        "import matplotlib.pyplot as plt\n",
        "import pandas as pd"
      ],
      "execution_count": 15,
      "outputs": []
    },
    {
      "cell_type": "markdown",
      "metadata": {
        "id": "6c8YExmOD5x5"
      },
      "source": [
        "## Importing the dataset"
      ]
    },
    {
      "cell_type": "code",
      "metadata": {
        "id": "nQOdXhjXD_AE"
      },
      "source": [
        "dataset = pd.read_csv('Position_Salaries.csv')\n"
      ],
      "execution_count": 16,
      "outputs": []
    },
    {
      "cell_type": "markdown",
      "metadata": {
        "id": "rJm9jUFr3FM1"
      },
      "source": [
        "##Separate the features and the label"
      ]
    },
    {
      "cell_type": "code",
      "metadata": {
        "id": "wRIVzx-f3FgV"
      },
      "source": [
        "X = dataset.iloc[:, 1:-1].values\n",
        "y = dataset.iloc[:, -1].values"
      ],
      "execution_count": 17,
      "outputs": []
    },
    {
      "cell_type": "markdown",
      "metadata": {
        "id": "JcECWmjw47Z7"
      },
      "source": [
        "as you can see, our data set is not linear and has curve or something that make us not to use simple regression"
      ]
    },
    {
      "cell_type": "code",
      "metadata": {
        "colab": {
          "base_uri": "https://localhost:8080/",
          "height": 276
        },
        "id": "e0kdlvqc43D6",
        "outputId": "65b6890b-2975-4f14-dac8-68ddd1c15286"
      },
      "source": [
        "plt.scatter(X, y, color = 'magenta')\n",
        "\n",
        "plt.show()"
      ],
      "execution_count": 18,
      "outputs": [
        {
          "output_type": "display_data",
          "data": {
            "image/png": "[encoded data removed]",
            "text/plain": [
              "<Figure size 432x288 with 1 Axes>"
            ]
          },
          "metadata": {
            "tags": [],
            "needs_background": "light"
          }
        }
      ]
    },
    {
      "cell_type": "markdown",
      "metadata": {
        "id": "Rb5nWuSHEfBV"
      },
      "source": [
        "## Training the Polynomial Regression model on the dataset"
      ]
    },
    {
      "cell_type": "markdown",
      "metadata": {
        "id": "TJbNBSX6NOBN"
      },
      "source": [
        "Generate polynomial and interaction features.\n",
        "\n",
        "Generate a new feature matrix consisting of all polynomial combinations of the features with degree less than or equal to the specified degree. [1, x, x^2, x^3,x^4,...]."
      ]
    },
    {
      "cell_type": "code",
      "metadata": {
        "id": "HYplp4pTEm0O",
        "colab": {
          "base_uri": "https://localhost:8080/"
        },
        "outputId": "92e0184e-d1ba-45af-b1a1-627e13350ab3"
      },
      "source": [
        "from sklearn.preprocessing import PolynomialFeatures\n",
        "from sklearn.linear_model import LinearRegression\n",
        "lin_regressor = LinearRegression()\n",
        "poly_regressor = PolynomialFeatures(degree = 4)\n",
        "X_poly = poly_regressor.fit_transform(X)\n",
        "poly_regressor.fit(X_poly, y)\n",
        "lin_reg_2 = LinearRegression()\n",
        "lin_reg_2.fit(X_poly, y)"
      ],
      "execution_count": 27,
      "outputs": [
        {
          "output_type": "execute_result",
          "data": {
            "text/plain": [
              "LinearRegression(copy_X=True, fit_intercept=True, n_jobs=None, normalize=False)"
            ]
          },
          "metadata": {
            "tags": []
          },
          "execution_count": 27
        }
      ]
    },
    {
      "cell_type": "markdown",
      "metadata": {
        "id": "stOnSo74E52m"
      },
      "source": [
        "## Visualising the Polynomial Regression results"
      ]
    },
    {
      "cell_type": "code",
      "metadata": {
        "id": "UCOcurIQE7Zv",
        "colab": {
          "base_uri": "https://localhost:8080/",
          "height": 295
        },
        "outputId": "f65752a5-3565-4265-8a38-6617b36cc7dd"
      },
      "source": [
        "plt.scatter(X, y, color = 'magenta')\n",
        "plt.plot(X, lin_reg_2.predict(X_poly), color = 'cyan')\n",
        "plt.title('Polynomial Regression')\n",
        "plt.xlabel('Position level')\n",
        "plt.ylabel('Salary')\n",
        "plt.show()"
      ],
      "execution_count": 28,
      "outputs": [
        {
          "output_type": "display_data",
          "data": {
            "image/png": "[encoded data removed]",
            "text/plain": [
              "<Figure size 432x288 with 1 Axes>"
            ]
          },
          "metadata": {
            "tags": [],
            "needs_background": "light"
          }
        }
      ]
    },
    {
      "cell_type": "markdown",
      "metadata": {
        "id": "DW7I7ZVDFNkk"
      },
      "source": [
        "## Predicting a new result with Polynomial Regression"
      ]
    },
    {
      "cell_type": "code",
      "metadata": {
        "id": "uQmtnyTHFRGG",
        "colab": {
          "base_uri": "https://localhost:8080/"
        },
        "outputId": "c5aa5434-23ec-4973-c1ef-572a1897c030"
      },
      "source": [
        "lin_reg_2.predict(poly_reg.fit_transform([[9]]))"
      ],
      "execution_count": 32,
      "outputs": [
        {
          "output_type": "execute_result",
          "data": {
            "text/plain": [
              "array([528694.63869462])"
            ]
          },
          "metadata": {
            "tags": []
          },
          "execution_count": 32
        }
      ]
    }
  ]
}